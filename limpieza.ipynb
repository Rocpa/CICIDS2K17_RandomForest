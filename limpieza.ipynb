{
 "cells": [
  {
   "cell_type": "code",
   "execution_count": 184,
   "metadata": {},
   "outputs": [],
   "source": [
    "import pandas as pd\n",
    "import matplotlib.pyplot as plt\n",
    "import seaborn as sns\n",
    "import numpy as np\n",
    "from sklearn.impute import SimpleImputer\n",
    "from sklearn.preprocessing import StandardScaler\n",
    "from sklearn.preprocessing import LabelEncoder\n",
    "from scipy.spatial.distance import mahalanobis"
   ]
  },
  {
   "cell_type": "code",
   "execution_count": 185,
   "metadata": {},
   "outputs": [],
   "source": [
    "df = pd.read_csv('../data/allinone.csv')"
   ]
  },
  {
   "cell_type": "markdown",
   "metadata": {},
   "source": [
    "### Manejo de Valores Nulos"
   ]
  },
  {
   "cell_type": "code",
   "execution_count": 186,
   "metadata": {},
   "outputs": [
    {
     "data": {
      "text/plain": [
       "Unnamed: 0                 0\n",
       " Destination Port          0\n",
       " Flow Duration             0\n",
       " Total Fwd Packets         0\n",
       " Total Backward Packets    0\n",
       "                          ..\n",
       "Idle Mean                  0\n",
       " Idle Std                  0\n",
       " Idle Max                  0\n",
       " Idle Min                  0\n",
       " Label                     0\n",
       "Length: 80, dtype: int64"
      ]
     },
     "execution_count": 186,
     "metadata": {},
     "output_type": "execute_result"
    }
   ],
   "source": [
    "# Comprobamos la cantidad de nulos en las columnas\n",
    "df.isnull().sum()"
   ]
  },
  {
   "cell_type": "code",
   "execution_count": 187,
   "metadata": {},
   "outputs": [],
   "source": [
    "# Eliminamos las columnas con >50% de valores nulos \n",
    "\n",
    "umbral = len(df) * 0.5 \n",
    "df = df.dropna(thresh=umbral, axis=1) "
   ]
  },
  {
   "cell_type": "code",
   "execution_count": 188,
   "metadata": {},
   "outputs": [
    {
     "name": "stdout",
     "output_type": "stream",
     "text": [
      "Valores infinitos por columna:\n",
      " Unnamed: 0                 0\n",
      " Destination Port          0\n",
      " Flow Duration             0\n",
      " Total Fwd Packets         0\n",
      " Total Backward Packets    0\n",
      "                          ..\n",
      " Active Min                0\n",
      "Idle Mean                  0\n",
      " Idle Std                  0\n",
      " Idle Max                  0\n",
      " Idle Min                  0\n",
      "Length: 79, dtype: int64\n"
     ]
    }
   ],
   "source": [
    "# Verificar valores infinitos en columnas numéricas\n",
    "inf_check = np.isinf(df.select_dtypes(include=['int64', 'float64'])).sum()\n",
    "print(\"Valores infinitos por columna:\\n\", inf_check)"
   ]
  },
  {
   "cell_type": "code",
   "execution_count": 189,
   "metadata": {},
   "outputs": [],
   "source": [
    "df = df.replace([np.inf, -np.inf], np.nan)  # Reemplazar inf con NaN"
   ]
  },
  {
   "cell_type": "code",
   "execution_count": 190,
   "metadata": {},
   "outputs": [],
   "source": [
    "# Imputación para columnas numéricas (todas las int y float)\n",
    "col_num = df.select_dtypes(include=['int64', 'float64']).columns\n",
    "imputer_num = SimpleImputer(strategy='mean')\n",
    "df[col_num] = imputer_num.fit_transform(df[col_num])"
   ]
  },
  {
   "cell_type": "code",
   "execution_count": 191,
   "metadata": {},
   "outputs": [],
   "source": [
    "# Imputación para columnas categóricas \n",
    "col_cat = df.select_dtypes(include=['object']).columns\n",
    "imputer_cat = SimpleImputer(strategy='most_frequent')\n",
    "df[col_cat] = imputer_cat.fit_transform(df[col_cat])"
   ]
  },
  {
   "cell_type": "code",
   "execution_count": 192,
   "metadata": {},
   "outputs": [],
   "source": [
    "# Eliminar filas con nulos residuales \n",
    "\n",
    "df = df.dropna()"
   ]
  },
  {
   "cell_type": "markdown",
   "metadata": {},
   "source": [
    "###  CORREGIR INCONSISTENCIAS "
   ]
  },
  {
   "cell_type": "code",
   "execution_count": 193,
   "metadata": {},
   "outputs": [],
   "source": [
    "# Estandarizar formatos en columnas categóricas (texto en minúsculas) \n",
    "for i in col_cat:\n",
    "    df[i] = df[i].str.lower().str.strip()"
   ]
  },
  {
   "cell_type": "code",
   "execution_count": 194,
   "metadata": {},
   "outputs": [],
   "source": [
    "# Eliminar duplicados \n",
    "\n",
    "df=df.drop_duplicates() "
   ]
  },
  {
   "cell_type": "markdown",
   "metadata": {},
   "source": [
    "### MANEJO DE OUTLIERS "
   ]
  },
  {
   "cell_type": "code",
   "execution_count": 195,
   "metadata": {},
   "outputs": [
    {
     "name": "stdout",
     "output_type": "stream",
     "text": [
      "Filas originales: 3072059\n",
      "Filas después del filtro IQR: 3072059\n"
     ]
    }
   ],
   "source": [
    "# Método IQR con cuantiles para la detección de outliers (no se detectan outliers)\n",
    "Q1 = df[col_num].quantile(0.25)\n",
    "Q3 = df[col_num].quantile(0.75)\n",
    "IQR = Q3 - Q1\n",
    "\n",
    "# Filtramos las filas cuyos valores estén dentro de los límites\n",
    "df_filtrado = df[(df[col_num] >= (Q1 - 1.5 * IQR)) & (df[col_num] <= (Q3 + 1.5 * IQR))]\n",
    "\n",
    "print(\"Filas originales:\", len(df))\n",
    "print(\"Filas después del filtro IQR:\", len(df_filtrado))"
   ]
  },
  {
   "cell_type": "code",
   "execution_count": 196,
   "metadata": {},
   "outputs": [
    {
     "name": "stdout",
     "output_type": "stream",
     "text": [
      "Filas originales: 3072059\n",
      "Filas después del filtro MAD: 3072059\n"
     ]
    }
   ],
   "source": [
    "# Método de la Desviación Absoluta Mediana (MAD) (no se detectan outliers)\n",
    "median = df[col_num].median()\n",
    "mad = np.median(np.abs(df[col_num] - median))\n",
    "\n",
    "# Verificar si MAD es cero para evitar división por cero\n",
    "if mad == 0:\n",
    "    print(\"MAD es 0; revisar la variabilidad de la columna\")\n",
    "else:\n",
    "    z_score = 0.6745 * (df[col_num] - median) / mad\n",
    "    \n",
    "    # Filtrar las filas que no son outliers\n",
    "    df_filtrado = df[(np.abs(z_score) <= 3.5)]\n",
    "    \n",
    "    print(\"Filas originales:\", len(df))\n",
    "    print(\"Filas después del filtro MAD:\", len(df_filtrado))"
   ]
  },
  {
   "cell_type": "markdown",
   "metadata": {},
   "source": [
    "#### Distancia de Mahalanobis"
   ]
  },
  {
   "cell_type": "markdown",
   "metadata": {},
   "source": [
    "La distancia de Mahalanobis es una medida que permite calcular la distancia entre un punto y una distribución, teniendo en cuenta las correlaciones entre variables en un conjunto de datos multivariado. A diferencia de la distancia euclidiana, que trata a todas las variables por igual, la distancia de Mahalanobis ajusta las distancias según la varianza y covarianza de los datos, lo que la hace especialmente útil para detectar outliers en datos con múltiples variables interrelacionadas."
   ]
  },
  {
   "cell_type": "code",
   "execution_count": 172,
   "metadata": {},
   "outputs": [
    {
     "ename": "LinAlgError",
     "evalue": "Singular matrix",
     "output_type": "error",
     "traceback": [
      "\u001b[1;31m---------------------------------------------------------------------------\u001b[0m",
      "\u001b[1;31mLinAlgError\u001b[0m                               Traceback (most recent call last)",
      "Cell \u001b[1;32mIn[172], line 8\u001b[0m\n\u001b[0;32m      6\u001b[0m mean \u001b[38;5;241m=\u001b[39m np\u001b[38;5;241m.\u001b[39mmean(data, axis\u001b[38;5;241m=\u001b[39m\u001b[38;5;241m0\u001b[39m)\n\u001b[0;32m      7\u001b[0m cov_matrix \u001b[38;5;241m=\u001b[39m np\u001b[38;5;241m.\u001b[39mcov(data, rowvar\u001b[38;5;241m=\u001b[39m\u001b[38;5;28;01mFalse\u001b[39;00m)\n\u001b[1;32m----> 8\u001b[0m inv_cov_matrix \u001b[38;5;241m=\u001b[39m \u001b[43mnp\u001b[49m\u001b[38;5;241;43m.\u001b[39;49m\u001b[43mlinalg\u001b[49m\u001b[38;5;241;43m.\u001b[39;49m\u001b[43minv\u001b[49m\u001b[43m(\u001b[49m\u001b[43mcov_matrix\u001b[49m\u001b[43m)\u001b[49m\n\u001b[0;32m     10\u001b[0m \u001b[38;5;66;03m# Calcular la distancia de Mahalanobis para cada punto\u001b[39;00m\n\u001b[0;32m     11\u001b[0m mahalanobis_distances \u001b[38;5;241m=\u001b[39m [mahalanobis(row, mean, inv_cov_matrix) \u001b[38;5;28;01mfor\u001b[39;00m row \u001b[38;5;129;01min\u001b[39;00m data]\n",
      "File \u001b[1;32mc:\\Users\\rocpa\\AppData\\Local\\Programs\\Python\\Python313\\Lib\\site-packages\\numpy\\linalg\\_linalg.py:609\u001b[0m, in \u001b[0;36minv\u001b[1;34m(a)\u001b[0m\n\u001b[0;32m    606\u001b[0m signature \u001b[38;5;241m=\u001b[39m \u001b[38;5;124m'\u001b[39m\u001b[38;5;124mD->D\u001b[39m\u001b[38;5;124m'\u001b[39m \u001b[38;5;28;01mif\u001b[39;00m isComplexType(t) \u001b[38;5;28;01melse\u001b[39;00m \u001b[38;5;124m'\u001b[39m\u001b[38;5;124md->d\u001b[39m\u001b[38;5;124m'\u001b[39m\n\u001b[0;32m    607\u001b[0m \u001b[38;5;28;01mwith\u001b[39;00m errstate(call\u001b[38;5;241m=\u001b[39m_raise_linalgerror_singular, invalid\u001b[38;5;241m=\u001b[39m\u001b[38;5;124m'\u001b[39m\u001b[38;5;124mcall\u001b[39m\u001b[38;5;124m'\u001b[39m,\n\u001b[0;32m    608\u001b[0m               over\u001b[38;5;241m=\u001b[39m\u001b[38;5;124m'\u001b[39m\u001b[38;5;124mignore\u001b[39m\u001b[38;5;124m'\u001b[39m, divide\u001b[38;5;241m=\u001b[39m\u001b[38;5;124m'\u001b[39m\u001b[38;5;124mignore\u001b[39m\u001b[38;5;124m'\u001b[39m, under\u001b[38;5;241m=\u001b[39m\u001b[38;5;124m'\u001b[39m\u001b[38;5;124mignore\u001b[39m\u001b[38;5;124m'\u001b[39m):\n\u001b[1;32m--> 609\u001b[0m     ainv \u001b[38;5;241m=\u001b[39m \u001b[43m_umath_linalg\u001b[49m\u001b[38;5;241;43m.\u001b[39;49m\u001b[43minv\u001b[49m\u001b[43m(\u001b[49m\u001b[43ma\u001b[49m\u001b[43m,\u001b[49m\u001b[43m \u001b[49m\u001b[43msignature\u001b[49m\u001b[38;5;241;43m=\u001b[39;49m\u001b[43msignature\u001b[49m\u001b[43m)\u001b[49m\n\u001b[0;32m    610\u001b[0m \u001b[38;5;28;01mreturn\u001b[39;00m wrap(ainv\u001b[38;5;241m.\u001b[39mastype(result_t, copy\u001b[38;5;241m=\u001b[39m\u001b[38;5;28;01mFalse\u001b[39;00m))\n",
      "File \u001b[1;32mc:\\Users\\rocpa\\AppData\\Local\\Programs\\Python\\Python313\\Lib\\site-packages\\numpy\\linalg\\_linalg.py:104\u001b[0m, in \u001b[0;36m_raise_linalgerror_singular\u001b[1;34m(err, flag)\u001b[0m\n\u001b[0;32m    103\u001b[0m \u001b[38;5;28;01mdef\u001b[39;00m\u001b[38;5;250m \u001b[39m\u001b[38;5;21m_raise_linalgerror_singular\u001b[39m(err, flag):\n\u001b[1;32m--> 104\u001b[0m     \u001b[38;5;28;01mraise\u001b[39;00m LinAlgError(\u001b[38;5;124m\"\u001b[39m\u001b[38;5;124mSingular matrix\u001b[39m\u001b[38;5;124m\"\u001b[39m)\n",
      "\u001b[1;31mLinAlgError\u001b[0m: Singular matrix"
     ]
    }
   ],
   "source": [
    "# Método con la distancia de Mahalanobis (no se encuentran outliers)\n",
    "\n",
    "data = df[col_num].values\n",
    "\n",
    "# Calcular la media y la matriz de covarianza\n",
    "mean = np.mean(data, axis=0)\n",
    "cov_matrix = np.cov(data, rowvar=False)\n",
    "inv_cov_matrix = np.linalg.inv(cov_matrix)\n",
    "\n",
    "# Calcular la distancia de Mahalanobis para cada punto\n",
    "mahalanobis_distances = [mahalanobis(row, mean, inv_cov_matrix) for row in data]\n",
    "\n",
    "# Determinar un umbral para identificar outliers\n",
    "threshold = np.percentile(mahalanobis_distances, 97.5)  # Por ejemplo, el percentil 97.5\n",
    "\n",
    "# Identificar los outliers\n",
    "outliers = df[mahalanobis_distances > threshold]\n",
    "\n",
    "print(\"Outliers encontrados: \", outliers)"
   ]
  },
  {
   "cell_type": "markdown",
   "metadata": {},
   "source": [
    "### NORMALIZACIÓN/ESTANDARIZACIÓN DE LOS DATOS "
   ]
  },
  {
   "cell_type": "code",
   "execution_count": 197,
   "metadata": {},
   "outputs": [],
   "source": [
    "# Estandarización (media = 0 desviación = 1) \n",
    "\n",
    "scaler = StandardScaler() \n",
    "df[col_num] = scaler.fit_transform(df[col_num]) "
   ]
  },
  {
   "cell_type": "markdown",
   "metadata": {},
   "source": [
    "### CODIFICACIÓN DE VARIABLES CATEGÓRICAS "
   ]
  },
  {
   "cell_type": "code",
   "execution_count": 198,
   "metadata": {},
   "outputs": [
    {
     "name": "stdout",
     "output_type": "stream",
     "text": [
      "Unnamed: 0                 float64\n",
      " Destination Port          float64\n",
      " Flow Duration             float64\n",
      " Total Fwd Packets         float64\n",
      " Total Backward Packets    float64\n",
      "                            ...   \n",
      "Idle Mean                  float64\n",
      " Idle Std                  float64\n",
      " Idle Max                  float64\n",
      " Idle Min                  float64\n",
      " Label                      object\n",
      "Length: 80, dtype: object\n",
      " Label: 14 valores únicos\n"
     ]
    }
   ],
   "source": [
    "# Identificar primero variables categóricas \n",
    "\n",
    "print(df.dtypes) \n",
    "\n",
    "for col in df.select_dtypes(include=['object']).columns: \n",
    "    \t\tprint(f\"{col}: {df[col].nunique()} valores únicos\") "
   ]
  },
  {
   "cell_type": "code",
   "execution_count": 199,
   "metadata": {},
   "outputs": [],
   "source": [
    "# Codificación ordinal para categrorías con orden con el uso de LabelEncoder de la librería de Sci-kit learn\n",
    "for i in col_cat:\n",
    "    le = LabelEncoder()\n",
    "    df[i] = le.fit_transform(df[i]) "
   ]
  },
  {
   "cell_type": "code",
   "execution_count": 201,
   "metadata": {},
   "outputs": [],
   "source": [
    "# One-Hot Enccoding para categorías sin orden \n",
    "\n",
    "df = pd.get_dummies(df, columns=col_cat, drop_first=True, dummy_na=True)"
   ]
  },
  {
   "cell_type": "markdown",
   "metadata": {},
   "source": [
    "### GUARDAR DATOS LIMPIOS EN CSV "
   ]
  },
  {
   "cell_type": "code",
   "execution_count": 202,
   "metadata": {},
   "outputs": [
    {
     "data": {
      "text/plain": [
       "(3072059, 93)"
      ]
     },
     "execution_count": 202,
     "metadata": {},
     "output_type": "execute_result"
    }
   ],
   "source": [
    "df.shape"
   ]
  },
  {
   "cell_type": "code",
   "execution_count": 203,
   "metadata": {},
   "outputs": [],
   "source": [
    "df.to_csv('../data/datos_limpios.csv')"
   ]
  }
 ],
 "metadata": {
  "kernelspec": {
   "display_name": "Python 3",
   "language": "python",
   "name": "python3"
  },
  "language_info": {
   "codemirror_mode": {
    "name": "ipython",
    "version": 3
   },
   "file_extension": ".py",
   "mimetype": "text/x-python",
   "name": "python",
   "nbconvert_exporter": "python",
   "pygments_lexer": "ipython3",
   "version": "3.13.0"
  }
 },
 "nbformat": 4,
 "nbformat_minor": 2
}
