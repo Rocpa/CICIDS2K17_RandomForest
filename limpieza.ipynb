{
 "cells": [
  {
   "cell_type": "code",
   "execution_count": 1,
   "metadata": {},
   "outputs": [],
   "source": [
    "import pandas as pd\n",
    "import matplotlib.pyplot as plt\n",
    "import seaborn as sns\n",
    "import numpy as np\n",
    "from sklearn.impute import SimpleImputer\n",
    "from sklearn.preprocessing import StandardScaler\n",
    "from sklearn.preprocessing import LabelEncoder\n",
    "from scipy.spatial.distance import mahalanobis"
   ]
  },
  {
   "cell_type": "code",
   "execution_count": 2,
   "metadata": {},
   "outputs": [],
   "source": [
    "df = pd.read_csv('../data/allinone.csv')"
   ]
  },
  {
   "cell_type": "markdown",
   "metadata": {},
   "source": [
    "### ELIMINAR COLUMNAS "
   ]
  },
  {
   "cell_type": "code",
   "execution_count": 3,
   "metadata": {},
   "outputs": [],
   "source": [
    "# Eliminar columnas con un solo valor único\n",
    "df = df.loc[:, df.nunique() > 1]"
   ]
  },
  {
   "cell_type": "code",
   "execution_count": 4,
   "metadata": {},
   "outputs": [],
   "source": [
    "# Eliminar columnas duplicadas\n",
    "df = df.loc[:, ~df.columns.duplicated()]"
   ]
  },
  {
   "cell_type": "code",
   "execution_count": 5,
   "metadata": {},
   "outputs": [],
   "source": [
    "# Eliminar columnas no relevantes\n",
    "df = df.drop(columns=['Unnamed: 0'])"
   ]
  },
  {
   "cell_type": "markdown",
   "metadata": {},
   "source": [
    "### Manejo de Valores Nulos"
   ]
  },
  {
   "cell_type": "code",
   "execution_count": 6,
   "metadata": {},
   "outputs": [
    {
     "data": {
      "text/plain": [
       " Destination Port              0\n",
       " Flow Duration                 0\n",
       " Total Fwd Packets             0\n",
       " Total Backward Packets        0\n",
       "Total Length of Fwd Packets    0\n",
       "                              ..\n",
       "Idle Mean                      0\n",
       " Idle Std                      0\n",
       " Idle Max                      0\n",
       " Idle Min                      0\n",
       " Label                         0\n",
       "Length: 69, dtype: int64"
      ]
     },
     "execution_count": 6,
     "metadata": {},
     "output_type": "execute_result"
    }
   ],
   "source": [
    "# Comprobamos la cantidad de nulos en las columnas\n",
    "df.isnull().sum()"
   ]
  },
  {
   "cell_type": "code",
   "execution_count": 7,
   "metadata": {},
   "outputs": [],
   "source": [
    "# Eliminamos las columnas con >50% de valores nulos \n",
    "\n",
    "umbral = len(df) * 0.5 \n",
    "df = df.dropna(thresh=umbral, axis=1) "
   ]
  },
  {
   "cell_type": "code",
   "execution_count": 8,
   "metadata": {},
   "outputs": [
    {
     "name": "stdout",
     "output_type": "stream",
     "text": [
      "Valores infinitos por columna:\n",
      "  Destination Port              0\n",
      " Flow Duration                 0\n",
      " Total Fwd Packets             0\n",
      " Total Backward Packets        0\n",
      "Total Length of Fwd Packets    0\n",
      "                              ..\n",
      " Active Min                    0\n",
      "Idle Mean                      0\n",
      " Idle Std                      0\n",
      " Idle Max                      0\n",
      " Idle Min                      0\n",
      "Length: 68, dtype: int64\n"
     ]
    }
   ],
   "source": [
    "# Verificar valores infinitos en columnas numéricas\n",
    "inf_check = np.isinf(df.select_dtypes(include=['int64', 'float64'])).sum()\n",
    "print(\"Valores infinitos por columna:\\n\", inf_check)"
   ]
  },
  {
   "cell_type": "code",
   "execution_count": 9,
   "metadata": {},
   "outputs": [],
   "source": [
    "df = df.replace([np.inf, -np.inf], np.nan)  # Reemplazar inf con NaN"
   ]
  },
  {
   "cell_type": "code",
   "execution_count": 10,
   "metadata": {},
   "outputs": [],
   "source": [
    "# Imputación para columnas numéricas (todas las int y float)\n",
    "col_num = df.select_dtypes(include=['int64', 'float64']).columns\n",
    "imputer_num = SimpleImputer(strategy='mean')\n",
    "df[col_num] = imputer_num.fit_transform(df[col_num])"
   ]
  },
  {
   "cell_type": "code",
   "execution_count": 11,
   "metadata": {},
   "outputs": [],
   "source": [
    "# Imputación para columnas categóricas \n",
    "col_cat = df.select_dtypes(include=['object']).columns\n",
    "imputer_cat = SimpleImputer(strategy='most_frequent')\n",
    "df[col_cat] = imputer_cat.fit_transform(df[col_cat])"
   ]
  },
  {
   "cell_type": "code",
   "execution_count": 12,
   "metadata": {},
   "outputs": [],
   "source": [
    "# Eliminar filas con nulos residuales \n",
    "\n",
    "df = df.dropna()"
   ]
  },
  {
   "cell_type": "markdown",
   "metadata": {},
   "source": [
    "###  CORREGIR INCONSISTENCIAS "
   ]
  },
  {
   "cell_type": "code",
   "execution_count": 13,
   "metadata": {},
   "outputs": [],
   "source": [
    "# Estandarizar formatos en columnas categóricas (texto en minúsculas) \n",
    "for i in col_cat:\n",
    "    df[i] = df[i].str.lower().str.strip()"
   ]
  },
  {
   "cell_type": "code",
   "execution_count": 14,
   "metadata": {},
   "outputs": [],
   "source": [
    "# Eliminar duplicados \n",
    "\n",
    "df=df.drop_duplicates() "
   ]
  },
  {
   "cell_type": "markdown",
   "metadata": {},
   "source": [
    "### MANEJO DE OUTLIERS "
   ]
  },
  {
   "cell_type": "code",
   "execution_count": 15,
   "metadata": {},
   "outputs": [
    {
     "name": "stdout",
     "output_type": "stream",
     "text": [
      "Filas originales: 2282168\n",
      "Filas después del filtro IQR: 2282168\n"
     ]
    }
   ],
   "source": [
    "# Método IQR con cuantiles para la detección de outliers (no se detectan outliers)\n",
    "Q1 = df[col_num].quantile(0.25)\n",
    "Q3 = df[col_num].quantile(0.75)\n",
    "IQR = Q3 - Q1\n",
    "\n",
    "# Filtramos las filas cuyos valores estén dentro de los límites\n",
    "df_filtrado = df[(df[col_num] >= (Q1 - 1.5 * IQR)) & (df[col_num] <= (Q3 + 1.5 * IQR))]\n",
    "\n",
    "print(\"Filas originales:\", len(df))\n",
    "print(\"Filas después del filtro IQR:\", len(df_filtrado))"
   ]
  },
  {
   "cell_type": "code",
   "execution_count": 16,
   "metadata": {},
   "outputs": [
    {
     "name": "stdout",
     "output_type": "stream",
     "text": [
      "Filas originales: 2282168\n",
      "Filas después del filtro MAD: 2282168\n"
     ]
    }
   ],
   "source": [
    "# Método de la Desviación Absoluta Mediana (MAD) (no se detectan outliers)\n",
    "median = df[col_num].median()\n",
    "mad = np.median(np.abs(df[col_num] - median))\n",
    "\n",
    "# Verificar si MAD es cero para evitar división por cero\n",
    "if mad == 0:\n",
    "    print(\"MAD es 0; revisar la variabilidad de la columna\")\n",
    "else:\n",
    "    z_score = 0.6745 * (df[col_num] - median) / mad\n",
    "    \n",
    "    # Filtrar las filas que no son outliers\n",
    "    df_filtrado = df[(np.abs(z_score) <= 3.5)]\n",
    "    \n",
    "    print(\"Filas originales:\", len(df))\n",
    "    print(\"Filas después del filtro MAD:\", len(df_filtrado))"
   ]
  },
  {
   "cell_type": "markdown",
   "metadata": {},
   "source": [
    "#### Distancia de Mahalanobis"
   ]
  },
  {
   "cell_type": "markdown",
   "metadata": {},
   "source": [
    "La distancia de Mahalanobis es una medida que permite calcular la distancia entre un punto y una distribución, teniendo en cuenta las correlaciones entre variables en un conjunto de datos multivariado. A diferencia de la distancia euclidiana, que trata a todas las variables por igual, la distancia de Mahalanobis ajusta las distancias según la varianza y covarianza de los datos, lo que la hace especialmente útil para detectar outliers en datos con múltiples variables interrelacionadas."
   ]
  },
  {
   "cell_type": "code",
   "execution_count": 17,
   "metadata": {},
   "outputs": [
    {
     "ename": "LinAlgError",
     "evalue": "Singular matrix",
     "output_type": "error",
     "traceback": [
      "\u001b[1;31m---------------------------------------------------------------------------\u001b[0m",
      "\u001b[1;31mLinAlgError\u001b[0m                               Traceback (most recent call last)",
      "Cell \u001b[1;32mIn[17], line 8\u001b[0m\n\u001b[0;32m      6\u001b[0m mean \u001b[38;5;241m=\u001b[39m np\u001b[38;5;241m.\u001b[39mmean(data, axis\u001b[38;5;241m=\u001b[39m\u001b[38;5;241m0\u001b[39m)\n\u001b[0;32m      7\u001b[0m cov_matrix \u001b[38;5;241m=\u001b[39m np\u001b[38;5;241m.\u001b[39mcov(data, rowvar\u001b[38;5;241m=\u001b[39m\u001b[38;5;28;01mFalse\u001b[39;00m)\n\u001b[1;32m----> 8\u001b[0m inv_cov_matrix \u001b[38;5;241m=\u001b[39m \u001b[43mnp\u001b[49m\u001b[38;5;241;43m.\u001b[39;49m\u001b[43mlinalg\u001b[49m\u001b[38;5;241;43m.\u001b[39;49m\u001b[43minv\u001b[49m\u001b[43m(\u001b[49m\u001b[43mcov_matrix\u001b[49m\u001b[43m)\u001b[49m\n\u001b[0;32m     10\u001b[0m \u001b[38;5;66;03m# Calcular la distancia de Mahalanobis para cada punto\u001b[39;00m\n\u001b[0;32m     11\u001b[0m mahalanobis_distances \u001b[38;5;241m=\u001b[39m [mahalanobis(row, mean, inv_cov_matrix) \u001b[38;5;28;01mfor\u001b[39;00m row \u001b[38;5;129;01min\u001b[39;00m data]\n",
      "File \u001b[1;32mc:\\Users\\rocpa\\AppData\\Local\\Programs\\Python\\Python313\\Lib\\site-packages\\numpy\\linalg\\_linalg.py:609\u001b[0m, in \u001b[0;36minv\u001b[1;34m(a)\u001b[0m\n\u001b[0;32m    606\u001b[0m signature \u001b[38;5;241m=\u001b[39m \u001b[38;5;124m'\u001b[39m\u001b[38;5;124mD->D\u001b[39m\u001b[38;5;124m'\u001b[39m \u001b[38;5;28;01mif\u001b[39;00m isComplexType(t) \u001b[38;5;28;01melse\u001b[39;00m \u001b[38;5;124m'\u001b[39m\u001b[38;5;124md->d\u001b[39m\u001b[38;5;124m'\u001b[39m\n\u001b[0;32m    607\u001b[0m \u001b[38;5;28;01mwith\u001b[39;00m errstate(call\u001b[38;5;241m=\u001b[39m_raise_linalgerror_singular, invalid\u001b[38;5;241m=\u001b[39m\u001b[38;5;124m'\u001b[39m\u001b[38;5;124mcall\u001b[39m\u001b[38;5;124m'\u001b[39m,\n\u001b[0;32m    608\u001b[0m               over\u001b[38;5;241m=\u001b[39m\u001b[38;5;124m'\u001b[39m\u001b[38;5;124mignore\u001b[39m\u001b[38;5;124m'\u001b[39m, divide\u001b[38;5;241m=\u001b[39m\u001b[38;5;124m'\u001b[39m\u001b[38;5;124mignore\u001b[39m\u001b[38;5;124m'\u001b[39m, under\u001b[38;5;241m=\u001b[39m\u001b[38;5;124m'\u001b[39m\u001b[38;5;124mignore\u001b[39m\u001b[38;5;124m'\u001b[39m):\n\u001b[1;32m--> 609\u001b[0m     ainv \u001b[38;5;241m=\u001b[39m \u001b[43m_umath_linalg\u001b[49m\u001b[38;5;241;43m.\u001b[39;49m\u001b[43minv\u001b[49m\u001b[43m(\u001b[49m\u001b[43ma\u001b[49m\u001b[43m,\u001b[49m\u001b[43m \u001b[49m\u001b[43msignature\u001b[49m\u001b[38;5;241;43m=\u001b[39;49m\u001b[43msignature\u001b[49m\u001b[43m)\u001b[49m\n\u001b[0;32m    610\u001b[0m \u001b[38;5;28;01mreturn\u001b[39;00m wrap(ainv\u001b[38;5;241m.\u001b[39mastype(result_t, copy\u001b[38;5;241m=\u001b[39m\u001b[38;5;28;01mFalse\u001b[39;00m))\n",
      "File \u001b[1;32mc:\\Users\\rocpa\\AppData\\Local\\Programs\\Python\\Python313\\Lib\\site-packages\\numpy\\linalg\\_linalg.py:104\u001b[0m, in \u001b[0;36m_raise_linalgerror_singular\u001b[1;34m(err, flag)\u001b[0m\n\u001b[0;32m    103\u001b[0m \u001b[38;5;28;01mdef\u001b[39;00m\u001b[38;5;250m \u001b[39m\u001b[38;5;21m_raise_linalgerror_singular\u001b[39m(err, flag):\n\u001b[1;32m--> 104\u001b[0m     \u001b[38;5;28;01mraise\u001b[39;00m LinAlgError(\u001b[38;5;124m\"\u001b[39m\u001b[38;5;124mSingular matrix\u001b[39m\u001b[38;5;124m\"\u001b[39m)\n",
      "\u001b[1;31mLinAlgError\u001b[0m: Singular matrix"
     ]
    }
   ],
   "source": [
    "# Método con la distancia de Mahalanobis (no se encuentran outliers)\n",
    "\n",
    "data = df[col_num].values\n",
    "\n",
    "# Calcular la media y la matriz de covarianza\n",
    "mean = np.mean(data, axis=0)\n",
    "cov_matrix = np.cov(data, rowvar=False)\n",
    "inv_cov_matrix = np.linalg.inv(cov_matrix)\n",
    "\n",
    "# Calcular la distancia de Mahalanobis para cada punto\n",
    "mahalanobis_distances = [mahalanobis(row, mean, inv_cov_matrix) for row in data]\n",
    "\n",
    "# Determinar un umbral para identificar outliers\n",
    "threshold = np.percentile(mahalanobis_distances, 97.5)  # Por ejemplo, el percentil 97.5\n",
    "\n",
    "# Identificar los outliers\n",
    "outliers = df[mahalanobis_distances > threshold]\n",
    "\n",
    "print(\"Outliers encontrados: \", outliers)"
   ]
  },
  {
   "cell_type": "markdown",
   "metadata": {},
   "source": [
    "### NORMALIZACIÓN/ESTANDARIZACIÓN DE LOS DATOS "
   ]
  },
  {
   "cell_type": "code",
   "execution_count": null,
   "metadata": {},
   "outputs": [],
   "source": [
    "# Estandarización (media = 0 desviación = 1) \n",
    "\n",
    "# scaler = StandardScaler() \n",
    "# df[col_num] = scaler.fit_transform(df[col_num]) "
   ]
  },
  {
   "cell_type": "markdown",
   "metadata": {},
   "source": [
    "### CODIFICACIÓN DE VARIABLES CATEGÓRICAS "
   ]
  },
  {
   "cell_type": "code",
   "execution_count": null,
   "metadata": {},
   "outputs": [],
   "source": [
    "# Identificar primero variables categóricas \n",
    "\n",
    "# print(df.dtypes) \n",
    "\n",
    "# for col in df.select_dtypes(include=['object']).columns: \n",
    "#     \t\tprint(f\"{col}: {df[col].nunique()} valores únicos\") "
   ]
  },
  {
   "cell_type": "code",
   "execution_count": null,
   "metadata": {},
   "outputs": [],
   "source": [
    "# Codificación ordinal para categrorías con orden con el uso de LabelEncoder de la librería de Sci-kit learn\n",
    "# for i in col_cat:\n",
    "#     le = LabelEncoder()\n",
    "#     df[i] = le.fit_transform(df[i]) "
   ]
  },
  {
   "cell_type": "code",
   "execution_count": null,
   "metadata": {},
   "outputs": [],
   "source": [
    "# One-Hot Enccoding para categorías sin orden \n",
    "\n",
    "# df = pd.get_dummies(df, columns=col_cat, drop_first=True, dummy_na=True)"
   ]
  },
  {
   "cell_type": "markdown",
   "metadata": {},
   "source": [
    "### FEATURE ENGINEERING"
   ]
  },
  {
   "cell_type": "code",
   "execution_count": 18,
   "metadata": {},
   "outputs": [],
   "source": [
    "# TOTAL PAQUETES\n",
    "df['Total_Packets'] = df[' Total Fwd Packets'] + df[' Total Backward Packets']"
   ]
  },
  {
   "cell_type": "code",
   "execution_count": 19,
   "metadata": {},
   "outputs": [],
   "source": [
    "# Ratio de paquetes enviados/recibidos para identificar desequilibrios en la comunicación\n",
    "df['Fwd_Bwd_Packet_Ratio'] = df[' Total Fwd Packets'] / (df[' Total Backward Packets'] + 1)"
   ]
  },
  {
   "cell_type": "code",
   "execution_count": 20,
   "metadata": {},
   "outputs": [],
   "source": [
    "df['Duration_per_Packet'] = df[' Flow Duration'] / df['Fwd_Bwd_Packet_Ratio']"
   ]
  },
  {
   "cell_type": "code",
   "execution_count": 21,
   "metadata": {},
   "outputs": [],
   "source": [
    "# Tasa de bytes por segundo\n",
    "df['Bytes_per_Second'] = (df['Total Length of Fwd Packets'] + df[' Total Length of Bwd Packets']) / (df[' Flow Duration'] / 1e6 + 1)"
   ]
  },
  {
   "cell_type": "code",
   "execution_count": 22,
   "metadata": {},
   "outputs": [],
   "source": [
    "# Numero total de flags activos\n",
    "df['Total_Active_Flags'] = (df['FIN Flag Count'] + df[' SYN Flag Count'] + df[' RST Flag Count'] + df[' PSH Flag Count'] + df[' ACK Flag Count'] + df[' URG Flag Count'] + df[' ECE Flag Count'])"
   ]
  },
  {
   "cell_type": "markdown",
   "metadata": {},
   "source": [
    "### GUARDAR DATOS LIMPIOS EN CSV "
   ]
  },
  {
   "cell_type": "code",
   "execution_count": 23,
   "metadata": {},
   "outputs": [
    {
     "data": {
      "text/html": [
       "<div>\n",
       "<style scoped>\n",
       "    .dataframe tbody tr th:only-of-type {\n",
       "        vertical-align: middle;\n",
       "    }\n",
       "\n",
       "    .dataframe tbody tr th {\n",
       "        vertical-align: top;\n",
       "    }\n",
       "\n",
       "    .dataframe thead th {\n",
       "        text-align: right;\n",
       "    }\n",
       "</style>\n",
       "<table border=\"1\" class=\"dataframe\">\n",
       "  <thead>\n",
       "    <tr style=\"text-align: right;\">\n",
       "      <th></th>\n",
       "      <th>Destination Port</th>\n",
       "      <th>Flow Duration</th>\n",
       "      <th>Total Fwd Packets</th>\n",
       "      <th>Total Backward Packets</th>\n",
       "      <th>Total Length of Fwd Packets</th>\n",
       "      <th>Total Length of Bwd Packets</th>\n",
       "      <th>Fwd Packet Length Max</th>\n",
       "      <th>Fwd Packet Length Min</th>\n",
       "      <th>Fwd Packet Length Mean</th>\n",
       "      <th>Fwd Packet Length Std</th>\n",
       "      <th>...</th>\n",
       "      <th>Active Min</th>\n",
       "      <th>Idle Mean</th>\n",
       "      <th>Idle Std</th>\n",
       "      <th>Idle Max</th>\n",
       "      <th>Idle Min</th>\n",
       "      <th>Total_Packets</th>\n",
       "      <th>Fwd_Bwd_Packet_Ratio</th>\n",
       "      <th>Duration_per_Packet</th>\n",
       "      <th>Bytes_per_Second</th>\n",
       "      <th>Total_Active_Flags</th>\n",
       "    </tr>\n",
       "  </thead>\n",
       "  <tbody>\n",
       "    <tr>\n",
       "      <th>count</th>\n",
       "      <td>2.282168e+06</td>\n",
       "      <td>2.282168e+06</td>\n",
       "      <td>2.282168e+06</td>\n",
       "      <td>2.282168e+06</td>\n",
       "      <td>2.282168e+06</td>\n",
       "      <td>2.282168e+06</td>\n",
       "      <td>2.282168e+06</td>\n",
       "      <td>2.282168e+06</td>\n",
       "      <td>2.282168e+06</td>\n",
       "      <td>2.282168e+06</td>\n",
       "      <td>...</td>\n",
       "      <td>2.282168e+06</td>\n",
       "      <td>2.282168e+06</td>\n",
       "      <td>2.282168e+06</td>\n",
       "      <td>2.282168e+06</td>\n",
       "      <td>2.282168e+06</td>\n",
       "      <td>2.282168e+06</td>\n",
       "      <td>2.282168e+06</td>\n",
       "      <td>2.282168e+06</td>\n",
       "      <td>2.282168e+06</td>\n",
       "      <td>2.282168e+06</td>\n",
       "    </tr>\n",
       "    <tr>\n",
       "      <th>mean</th>\n",
       "      <td>8.691529e+03</td>\n",
       "      <td>1.719367e+07</td>\n",
       "      <td>1.061335e+01</td>\n",
       "      <td>1.200899e+01</td>\n",
       "      <td>6.050673e+02</td>\n",
       "      <td>1.926324e+04</td>\n",
       "      <td>2.378921e+02</td>\n",
       "      <td>1.932659e+01</td>\n",
       "      <td>6.516634e+01</td>\n",
       "      <td>8.026530e+01</td>\n",
       "      <td>...</td>\n",
       "      <td>6.748997e+04</td>\n",
       "      <td>9.983936e+06</td>\n",
       "      <td>6.096482e+05</td>\n",
       "      <td>1.044332e+07</td>\n",
       "      <td>9.508552e+06</td>\n",
       "      <td>2.262234e+01</td>\n",
       "      <td>1.157319e+00</td>\n",
       "      <td>1.833548e+07</td>\n",
       "      <td>1.303366e+03</td>\n",
       "      <td>7.944661e-01</td>\n",
       "    </tr>\n",
       "    <tr>\n",
       "      <th>std</th>\n",
       "      <td>1.908598e+04</td>\n",
       "      <td>3.568801e+07</td>\n",
       "      <td>8.344993e+02</td>\n",
       "      <td>1.110099e+03</td>\n",
       "      <td>6.164660e+03</td>\n",
       "      <td>2.519535e+06</td>\n",
       "      <td>7.796726e+02</td>\n",
       "      <td>6.297020e+01</td>\n",
       "      <td>2.011317e+02</td>\n",
       "      <td>3.080722e+02</td>\n",
       "      <td>...</td>\n",
       "      <td>6.228916e+05</td>\n",
       "      <td>2.575515e+07</td>\n",
       "      <td>5.087520e+06</td>\n",
       "      <td>2.655031e+07</td>\n",
       "      <td>2.548740e+07</td>\n",
       "      <td>1.944185e+03</td>\n",
       "      <td>4.053646e+00</td>\n",
       "      <td>4.101946e+07</td>\n",
       "      <td>3.245320e+04</td>\n",
       "      <td>6.942686e-01</td>\n",
       "    </tr>\n",
       "    <tr>\n",
       "      <th>min</th>\n",
       "      <td>0.000000e+00</td>\n",
       "      <td>-1.300000e+01</td>\n",
       "      <td>1.000000e+00</td>\n",
       "      <td>0.000000e+00</td>\n",
       "      <td>0.000000e+00</td>\n",
       "      <td>0.000000e+00</td>\n",
       "      <td>0.000000e+00</td>\n",
       "      <td>0.000000e+00</td>\n",
       "      <td>0.000000e+00</td>\n",
       "      <td>0.000000e+00</td>\n",
       "      <td>...</td>\n",
       "      <td>0.000000e+00</td>\n",
       "      <td>0.000000e+00</td>\n",
       "      <td>0.000000e+00</td>\n",
       "      <td>0.000000e+00</td>\n",
       "      <td>0.000000e+00</td>\n",
       "      <td>2.000000e+00</td>\n",
       "      <td>8.000000e-03</td>\n",
       "      <td>-2.600000e+01</td>\n",
       "      <td>0.000000e+00</td>\n",
       "      <td>0.000000e+00</td>\n",
       "    </tr>\n",
       "    <tr>\n",
       "      <th>25%</th>\n",
       "      <td>5.300000e+01</td>\n",
       "      <td>2.190000e+02</td>\n",
       "      <td>2.000000e+00</td>\n",
       "      <td>1.000000e+00</td>\n",
       "      <td>2.300000e+01</td>\n",
       "      <td>6.000000e+00</td>\n",
       "      <td>6.000000e+00</td>\n",
       "      <td>0.000000e+00</td>\n",
       "      <td>6.000000e+00</td>\n",
       "      <td>0.000000e+00</td>\n",
       "      <td>...</td>\n",
       "      <td>0.000000e+00</td>\n",
       "      <td>0.000000e+00</td>\n",
       "      <td>0.000000e+00</td>\n",
       "      <td>0.000000e+00</td>\n",
       "      <td>0.000000e+00</td>\n",
       "      <td>2.000000e+00</td>\n",
       "      <td>5.000000e-01</td>\n",
       "      <td>3.075000e+02</td>\n",
       "      <td>1.199927e+01</td>\n",
       "      <td>0.000000e+00</td>\n",
       "    </tr>\n",
       "    <tr>\n",
       "      <th>50%</th>\n",
       "      <td>8.000000e+01</td>\n",
       "      <td>5.882250e+04</td>\n",
       "      <td>2.000000e+00</td>\n",
       "      <td>2.000000e+00</td>\n",
       "      <td>6.700000e+01</td>\n",
       "      <td>1.600000e+02</td>\n",
       "      <td>4.100000e+01</td>\n",
       "      <td>2.000000e+00</td>\n",
       "      <td>3.700000e+01</td>\n",
       "      <td>0.000000e+00</td>\n",
       "      <td>...</td>\n",
       "      <td>0.000000e+00</td>\n",
       "      <td>0.000000e+00</td>\n",
       "      <td>0.000000e+00</td>\n",
       "      <td>0.000000e+00</td>\n",
       "      <td>0.000000e+00</td>\n",
       "      <td>4.000000e+00</td>\n",
       "      <td>6.666667e-01</td>\n",
       "      <td>8.721300e+04</td>\n",
       "      <td>1.382544e+02</td>\n",
       "      <td>1.000000e+00</td>\n",
       "    </tr>\n",
       "    <tr>\n",
       "      <th>75%</th>\n",
       "      <td>4.430000e+02</td>\n",
       "      <td>5.528671e+06</td>\n",
       "      <td>6.000000e+00</td>\n",
       "      <td>5.000000e+00</td>\n",
       "      <td>3.410000e+02</td>\n",
       "      <td>1.514000e+03</td>\n",
       "      <td>2.170000e+02</td>\n",
       "      <td>3.700000e+01</td>\n",
       "      <td>5.271429e+01</td>\n",
       "      <td>7.825611e+01</td>\n",
       "      <td>...</td>\n",
       "      <td>0.000000e+00</td>\n",
       "      <td>0.000000e+00</td>\n",
       "      <td>0.000000e+00</td>\n",
       "      <td>0.000000e+00</td>\n",
       "      <td>0.000000e+00</td>\n",
       "      <td>1.100000e+01</td>\n",
       "      <td>1.200000e+00</td>\n",
       "      <td>3.897812e+06</td>\n",
       "      <td>3.083126e+02</td>\n",
       "      <td>1.000000e+00</td>\n",
       "    </tr>\n",
       "    <tr>\n",
       "      <th>max</th>\n",
       "      <td>6.553500e+04</td>\n",
       "      <td>1.200000e+08</td>\n",
       "      <td>2.197590e+05</td>\n",
       "      <td>2.919220e+05</td>\n",
       "      <td>2.428415e+06</td>\n",
       "      <td>6.554530e+08</td>\n",
       "      <td>2.482000e+04</td>\n",
       "      <td>2.325000e+03</td>\n",
       "      <td>5.940857e+03</td>\n",
       "      <td>7.125597e+03</td>\n",
       "      <td>...</td>\n",
       "      <td>1.100000e+08</td>\n",
       "      <td>1.200000e+08</td>\n",
       "      <td>7.690000e+07</td>\n",
       "      <td>1.200000e+08</td>\n",
       "      <td>1.200000e+08</td>\n",
       "      <td>5.116810e+05</td>\n",
       "      <td>5.460000e+02</td>\n",
       "      <td>1.474397e+10</td>\n",
       "      <td>1.095775e+07</td>\n",
       "      <td>3.000000e+00</td>\n",
       "    </tr>\n",
       "  </tbody>\n",
       "</table>\n",
       "<p>8 rows × 73 columns</p>\n",
       "</div>"
      ],
      "text/plain": [
       "        Destination Port   Flow Duration   Total Fwd Packets  \\\n",
       "count       2.282168e+06    2.282168e+06        2.282168e+06   \n",
       "mean        8.691529e+03    1.719367e+07        1.061335e+01   \n",
       "std         1.908598e+04    3.568801e+07        8.344993e+02   \n",
       "min         0.000000e+00   -1.300000e+01        1.000000e+00   \n",
       "25%         5.300000e+01    2.190000e+02        2.000000e+00   \n",
       "50%         8.000000e+01    5.882250e+04        2.000000e+00   \n",
       "75%         4.430000e+02    5.528671e+06        6.000000e+00   \n",
       "max         6.553500e+04    1.200000e+08        2.197590e+05   \n",
       "\n",
       "        Total Backward Packets  Total Length of Fwd Packets  \\\n",
       "count             2.282168e+06                 2.282168e+06   \n",
       "mean              1.200899e+01                 6.050673e+02   \n",
       "std               1.110099e+03                 6.164660e+03   \n",
       "min               0.000000e+00                 0.000000e+00   \n",
       "25%               1.000000e+00                 2.300000e+01   \n",
       "50%               2.000000e+00                 6.700000e+01   \n",
       "75%               5.000000e+00                 3.410000e+02   \n",
       "max               2.919220e+05                 2.428415e+06   \n",
       "\n",
       "        Total Length of Bwd Packets   Fwd Packet Length Max  \\\n",
       "count                  2.282168e+06            2.282168e+06   \n",
       "mean                   1.926324e+04            2.378921e+02   \n",
       "std                    2.519535e+06            7.796726e+02   \n",
       "min                    0.000000e+00            0.000000e+00   \n",
       "25%                    6.000000e+00            6.000000e+00   \n",
       "50%                    1.600000e+02            4.100000e+01   \n",
       "75%                    1.514000e+03            2.170000e+02   \n",
       "max                    6.554530e+08            2.482000e+04   \n",
       "\n",
       "        Fwd Packet Length Min   Fwd Packet Length Mean  \\\n",
       "count            2.282168e+06             2.282168e+06   \n",
       "mean             1.932659e+01             6.516634e+01   \n",
       "std              6.297020e+01             2.011317e+02   \n",
       "min              0.000000e+00             0.000000e+00   \n",
       "25%              0.000000e+00             6.000000e+00   \n",
       "50%              2.000000e+00             3.700000e+01   \n",
       "75%              3.700000e+01             5.271429e+01   \n",
       "max              2.325000e+03             5.940857e+03   \n",
       "\n",
       "        Fwd Packet Length Std  ...    Active Min     Idle Mean      Idle Std  \\\n",
       "count            2.282168e+06  ...  2.282168e+06  2.282168e+06  2.282168e+06   \n",
       "mean             8.026530e+01  ...  6.748997e+04  9.983936e+06  6.096482e+05   \n",
       "std              3.080722e+02  ...  6.228916e+05  2.575515e+07  5.087520e+06   \n",
       "min              0.000000e+00  ...  0.000000e+00  0.000000e+00  0.000000e+00   \n",
       "25%              0.000000e+00  ...  0.000000e+00  0.000000e+00  0.000000e+00   \n",
       "50%              0.000000e+00  ...  0.000000e+00  0.000000e+00  0.000000e+00   \n",
       "75%              7.825611e+01  ...  0.000000e+00  0.000000e+00  0.000000e+00   \n",
       "max              7.125597e+03  ...  1.100000e+08  1.200000e+08  7.690000e+07   \n",
       "\n",
       "           Idle Max      Idle Min  Total_Packets  Fwd_Bwd_Packet_Ratio  \\\n",
       "count  2.282168e+06  2.282168e+06   2.282168e+06          2.282168e+06   \n",
       "mean   1.044332e+07  9.508552e+06   2.262234e+01          1.157319e+00   \n",
       "std    2.655031e+07  2.548740e+07   1.944185e+03          4.053646e+00   \n",
       "min    0.000000e+00  0.000000e+00   2.000000e+00          8.000000e-03   \n",
       "25%    0.000000e+00  0.000000e+00   2.000000e+00          5.000000e-01   \n",
       "50%    0.000000e+00  0.000000e+00   4.000000e+00          6.666667e-01   \n",
       "75%    0.000000e+00  0.000000e+00   1.100000e+01          1.200000e+00   \n",
       "max    1.200000e+08  1.200000e+08   5.116810e+05          5.460000e+02   \n",
       "\n",
       "       Duration_per_Packet  Bytes_per_Second  Total_Active_Flags  \n",
       "count         2.282168e+06      2.282168e+06        2.282168e+06  \n",
       "mean          1.833548e+07      1.303366e+03        7.944661e-01  \n",
       "std           4.101946e+07      3.245320e+04        6.942686e-01  \n",
       "min          -2.600000e+01      0.000000e+00        0.000000e+00  \n",
       "25%           3.075000e+02      1.199927e+01        0.000000e+00  \n",
       "50%           8.721300e+04      1.382544e+02        1.000000e+00  \n",
       "75%           3.897812e+06      3.083126e+02        1.000000e+00  \n",
       "max           1.474397e+10      1.095775e+07        3.000000e+00  \n",
       "\n",
       "[8 rows x 73 columns]"
      ]
     },
     "execution_count": 23,
     "metadata": {},
     "output_type": "execute_result"
    }
   ],
   "source": [
    "df.describe()"
   ]
  },
  {
   "cell_type": "code",
   "execution_count": 24,
   "metadata": {},
   "outputs": [
    {
     "data": {
      "text/plain": [
       "(2282168, 74)"
      ]
     },
     "execution_count": 24,
     "metadata": {},
     "output_type": "execute_result"
    }
   ],
   "source": [
    "df.shape"
   ]
  },
  {
   "cell_type": "code",
   "execution_count": 25,
   "metadata": {},
   "outputs": [],
   "source": [
    "df.to_csv('../data/datos_limpios.csv')"
   ]
  }
 ],
 "metadata": {
  "kernelspec": {
   "display_name": "Python 3",
   "language": "python",
   "name": "python3"
  },
  "language_info": {
   "codemirror_mode": {
    "name": "ipython",
    "version": 3
   },
   "file_extension": ".py",
   "mimetype": "text/x-python",
   "name": "python",
   "nbconvert_exporter": "python",
   "pygments_lexer": "ipython3",
   "version": "3.13.0"
  }
 },
 "nbformat": 4,
 "nbformat_minor": 2
}
